{
  "nbformat": 4,
  "nbformat_minor": 0,
  "metadata": {
    "colab": {
      "provenance": [],
      "authorship_tag": "ABX9TyPSALT/Rk1k8zZIT4zYSa9j",
      "include_colab_link": true
    },
    "kernelspec": {
      "name": "python3",
      "display_name": "Python 3"
    },
    "language_info": {
      "name": "python"
    }
  },
  "cells": [
    {
      "cell_type": "markdown",
      "metadata": {
        "id": "view-in-github",
        "colab_type": "text"
      },
      "source": [
        "<a href=\"https://colab.research.google.com/github/KacperMisiaszek/Studia/blob/main/lab2.ipynb\" target=\"_parent\"><img src=\"https://colab.research.google.com/assets/colab-badge.svg\" alt=\"Open In Colab\"/></a>"
      ]
    },
    {
      "cell_type": "code",
      "execution_count": null,
      "metadata": {
        "colab": {
          "base_uri": "https://localhost:8080/"
        },
        "id": "ICvZfeIplz-C",
        "outputId": "1a6a42c9-3ab9-46b4-bcbb-bb0f8c06f9a7"
      },
      "outputs": [
        {
          "output_type": "stream",
          "name": "stdout",
          "text": [
            "Hello World!\n"
          ]
        }
      ],
      "source": [
        "s=\"Hello World!\"\n",
        "print(s)"
      ]
    },
    {
      "cell_type": "code",
      "source": [
        "s=\"\"\"Beautiful is better than ugly.\n",
        "Explicit is better than implicit.\n",
        "Simple is better than complex.\n",
        "Complex is better than complicated.\n",
        "Flat is better than nested.\n",
        "Sparse is better than dense.\n",
        "Readability counts.\n",
        "Special cases aren’t special enough to break the rules.\n",
        "Although practicality beats purity.\n",
        "Errors should never pass silently.\n",
        "Unless explicitly silenced.\n",
        "In the face of ambiguity, refuse the temptation to guess.\n",
        "There should be one—and preferably only one—obvious\n",
        "way to do it.\n",
        "Although that way may not be obvious at first unless\n",
        "you’re Dutch.\n",
        "Now is better than never.\n",
        "Although never is often better than right now.\n",
        "If the implementation is hard to explain, it’s a bad idea.\n",
        "If the implementation is easy to explain, it may be a\n",
        "good idea.\n",
        "Namespaces are one honking great idea—let’s do more\n",
        "of those!\"\"\"\n",
        "print(s)"
      ],
      "metadata": {
        "colab": {
          "base_uri": "https://localhost:8080/"
        },
        "id": "Z3O0dc4Rpbou",
        "outputId": "1acdcaf7-d2ee-459e-a3d3-b6d7ed4cc4cd"
      },
      "execution_count": null,
      "outputs": [
        {
          "output_type": "stream",
          "name": "stdout",
          "text": [
            "Beautiful is better than ugly.\n",
            "Explicit is better than implicit.\n",
            "Simple is better than complex.\n",
            "Complex is better than complicated.\n",
            "Flat is better than nested.\n",
            "Sparse is better than dense.\n",
            "Readability counts.\n",
            "Special cases aren’t special enough to break the rules.\n",
            "Although practicality beats purity.\n",
            "Errors should never pass silently.\n",
            "Unless explicitly silenced.\n",
            "In the face of ambiguity, refuse the temptation to guess.\n",
            "There should be one—and preferably only one—obvious\n",
            "way to do it.\n",
            "Although that way may not be obvious at first unless\n",
            "you’re Dutch.\n",
            "Now is better than never.\n",
            "Although never is often better than right now.\n",
            "If the implementation is hard to explain, it’s a bad idea.\n",
            "If the implementation is easy to explain, it may be a\n",
            "good idea.\n",
            "Namespaces are one honking great idea—let’s do more\n",
            "of those!\n"
          ]
        }
      ]
    },
    {
      "cell_type": "code",
      "source": [
        "a=1\n",
        "b=2\n",
        "print(a+b)\n",
        "print(a-b)\n",
        "print(a*b)\n",
        "print(a/b)\n",
        "print(a**b)"
      ],
      "metadata": {
        "colab": {
          "base_uri": "https://localhost:8080/"
        },
        "id": "aeXCHs4Cuq9e",
        "outputId": "cfcf362f-bbab-41d3-af1b-2f5094bf1185"
      },
      "execution_count": null,
      "outputs": [
        {
          "output_type": "stream",
          "name": "stdout",
          "text": [
            "3\n",
            "-1\n",
            "2\n",
            "0.5\n",
            "1\n"
          ]
        }
      ]
    },
    {
      "cell_type": "code",
      "source": [
        "a=[x for x in range(0,10)]\n",
        "b=[x/10 for x in range(0,10)]\n",
        "c=[complex(0,x) for x in range(0,10)]\n",
        "print(a)\n",
        "print(b)\n",
        "print(c)"
      ],
      "metadata": {
        "colab": {
          "base_uri": "https://localhost:8080/"
        },
        "id": "Cy6OpqSxvF38",
        "outputId": "5baa23fd-4700-4568-d3a7-90d395cb2009"
      },
      "execution_count": null,
      "outputs": [
        {
          "output_type": "stream",
          "name": "stdout",
          "text": [
            "[0, 1, 2, 3, 4, 5, 6, 7, 8, 9]\n",
            "[0.0, 0.1, 0.2, 0.3, 0.4, 0.5, 0.6, 0.7, 0.8, 0.9]\n",
            "[0j, 1j, 2j, 3j, 4j, 5j, 6j, 7j, 8j, 9j]\n"
          ]
        }
      ]
    },
    {
      "cell_type": "code",
      "source": [
        "s=\"\"\"Beautiful is better than ugly.\n",
        "Explicit is better than implicit.\n",
        "Simple is better than complex.\n",
        "Complex is better than complicated.\n",
        "Flat is better than nested.\n",
        "Sparse is better than dense.\n",
        "Readability counts.\n",
        "Special cases aren’t special enough to break the rules.\n",
        "Although practicality beats purity.\n",
        "Errors should never pass silently.\n",
        "Unless explicitly silenced.\n",
        "In the face of ambiguity, refuse the temptation to guess.\n",
        "There should be one—and preferably only one—obvious\n",
        "way to do it.\n",
        "Although that way may not be obvious at first unless\n",
        "you’re Dutch.\n",
        "Now is better than never.\n",
        "Although never is often better than right now.\n",
        "If the implementation is hard to explain, it’s a bad idea.\n",
        "If the implementation is easy to explain, it may be a\n",
        "good idea.\n",
        "Namespaces are one honking great idea—let’s do more\n",
        "of those!\"\"\"\n",
        "print(s.upper())"
      ],
      "metadata": {
        "colab": {
          "base_uri": "https://localhost:8080/"
        },
        "id": "6e-Uv8uEvaJP",
        "outputId": "aad83e47-d063-4d3b-d9a4-70156bb68921"
      },
      "execution_count": null,
      "outputs": [
        {
          "output_type": "stream",
          "name": "stdout",
          "text": [
            "BEAUTIFUL IS BETTER THAN UGLY.\n",
            "EXPLICIT IS BETTER THAN IMPLICIT.\n",
            "SIMPLE IS BETTER THAN COMPLEX.\n",
            "COMPLEX IS BETTER THAN COMPLICATED.\n",
            "FLAT IS BETTER THAN NESTED.\n",
            "SPARSE IS BETTER THAN DENSE.\n",
            "READABILITY COUNTS.\n",
            "SPECIAL CASES AREN’T SPECIAL ENOUGH TO BREAK THE RULES.\n",
            "ALTHOUGH PRACTICALITY BEATS PURITY.\n",
            "ERRORS SHOULD NEVER PASS SILENTLY.\n",
            "UNLESS EXPLICITLY SILENCED.\n",
            "IN THE FACE OF AMBIGUITY, REFUSE THE TEMPTATION TO GUESS.\n",
            "THERE SHOULD BE ONE—AND PREFERABLY ONLY ONE—OBVIOUS\n",
            "WAY TO DO IT.\n",
            "ALTHOUGH THAT WAY MAY NOT BE OBVIOUS AT FIRST UNLESS\n",
            "YOU’RE DUTCH.\n",
            "NOW IS BETTER THAN NEVER.\n",
            "ALTHOUGH NEVER IS OFTEN BETTER THAN RIGHT NOW.\n",
            "IF THE IMPLEMENTATION IS HARD TO EXPLAIN, IT’S A BAD IDEA.\n",
            "IF THE IMPLEMENTATION IS EASY TO EXPLAIN, IT MAY BE A\n",
            "GOOD IDEA.\n",
            "NAMESPACES ARE ONE HONKING GREAT IDEA—LET’S DO MORE\n",
            "OF THOSE!\n"
          ]
        }
      ]
    },
    {
      "cell_type": "code",
      "source": [
        "s=\"\"\"Beautiful is better than ugly.\n",
        "Explicit is better than implicit.\n",
        "Simple is better than complex.\n",
        "Complex is better than complicated.\n",
        "Flat is better than nested.\n",
        "Sparse is better than dense.\n",
        "Readability counts.\n",
        "Special cases aren’t special enough to break the rules.\n",
        "Although practicality beats purity.\n",
        "Errors should never pass silently.\n",
        "Unless explicitly silenced.\n",
        "In the face of ambiguity, refuse the temptation to guess.\n",
        "There should be one—and preferably only one—obvious\n",
        "way to do it.\n",
        "Although that way may not be obvious at first unless\n",
        "you’re Dutch.\n",
        "Now is better than never.\n",
        "Although never is often better than right now.\n",
        "If the implementation is hard to explain, it’s a bad idea.\n",
        "If the implementation is easy to explain, it may be a\n",
        "good idea.\n",
        "Namespaces are one honking great idea—let’s do more\n",
        "of those!\"\"\"\n",
        "print(s.title())"
      ],
      "metadata": {
        "colab": {
          "base_uri": "https://localhost:8080/"
        },
        "id": "u2LNEYiJwNmV",
        "outputId": "38c3dfc9-5f48-4caf-e81a-93222b30a1bd"
      },
      "execution_count": null,
      "outputs": [
        {
          "output_type": "stream",
          "name": "stdout",
          "text": [
            "Beautiful Is Better Than Ugly.\n",
            "Explicit Is Better Than Implicit.\n",
            "Simple Is Better Than Complex.\n",
            "Complex Is Better Than Complicated.\n",
            "Flat Is Better Than Nested.\n",
            "Sparse Is Better Than Dense.\n",
            "Readability Counts.\n",
            "Special Cases Aren’T Special Enough To Break The Rules.\n",
            "Although Practicality Beats Purity.\n",
            "Errors Should Never Pass Silently.\n",
            "Unless Explicitly Silenced.\n",
            "In The Face Of Ambiguity, Refuse The Temptation To Guess.\n",
            "There Should Be One—And Preferably Only One—Obvious\n",
            "Way To Do It.\n",
            "Although That Way May Not Be Obvious At First Unless\n",
            "You’Re Dutch.\n",
            "Now Is Better Than Never.\n",
            "Although Never Is Often Better Than Right Now.\n",
            "If The Implementation Is Hard To Explain, It’S A Bad Idea.\n",
            "If The Implementation Is Easy To Explain, It May Be A\n",
            "Good Idea.\n",
            "Namespaces Are One Honking Great Idea—Let’S Do More\n",
            "Of Those!\n"
          ]
        }
      ]
    },
    {
      "cell_type": "code",
      "source": [
        "s=\"\"\"Beautiful is better than ugly.\n",
        "Explicit is better than implicit.\n",
        "Simple is better than complex.\n",
        "Complex is better than complicated.\n",
        "Flat is better than nested.\n",
        "Sparse is better than dense.\n",
        "Readability counts.\n",
        "Special cases aren’t special enough to break the rules.\n",
        "Although practicality beats purity.\n",
        "Errors should never pass silently.\n",
        "Unless explicitly silenced.\n",
        "In the face of ambiguity, refuse the temptation to guess.\n",
        "There should be one—and preferably only one—obvious\n",
        "way to do it.\n",
        "Although that way may not be obvious at first unless\n",
        "you’re Dutch.\n",
        "Now is better than never.\n",
        "Although never is often better than right now.\n",
        "If the implementation is hard to explain, it’s a bad idea.\n",
        "If the implementation is easy to explain, it may be a\n",
        "good idea.\n",
        "Namespaces are one honking great idea—let’s do more\n",
        "of those!\"\"\"\n",
        "print(s.replace(\" \",\"\"))"
      ],
      "metadata": {
        "colab": {
          "base_uri": "https://localhost:8080/"
        },
        "id": "xsZlc2yfxPU2",
        "outputId": "3e23ef74-bbc9-445f-947a-2f03a018bce6"
      },
      "execution_count": null,
      "outputs": [
        {
          "output_type": "stream",
          "name": "stdout",
          "text": [
            "Beautifulisbetterthanugly.\n",
            "Explicitisbetterthanimplicit.\n",
            "Simpleisbetterthancomplex.\n",
            "Complexisbetterthancomplicated.\n",
            "Flatisbetterthannested.\n",
            "Sparseisbetterthandense.\n",
            "Readabilitycounts.\n",
            "Specialcasesaren’tspecialenoughtobreaktherules.\n",
            "Althoughpracticalitybeatspurity.\n",
            "Errorsshouldneverpasssilently.\n",
            "Unlessexplicitlysilenced.\n",
            "Inthefaceofambiguity,refusethetemptationtoguess.\n",
            "Thereshouldbeone—andpreferablyonlyone—obvious\n",
            "waytodoit.\n",
            "Althoughthatwaymaynotbeobviousatfirstunless\n",
            "you’reDutch.\n",
            "Nowisbetterthannever.\n",
            "Althoughneverisoftenbetterthanrightnow.\n",
            "Iftheimplementationishardtoexplain,it’sabadidea.\n",
            "Iftheimplementationiseasytoexplain,itmaybea\n",
            "goodidea.\n",
            "Namespacesareonehonkinggreatidea—let’sdomore\n",
            "ofthose!\n"
          ]
        }
      ]
    },
    {
      "cell_type": "code",
      "source": [
        "a=19 #waw\n",
        "print(bin(a))\n",
        "print(hex(a))\n",
        "print(oct(a))"
      ],
      "metadata": {
        "colab": {
          "base_uri": "https://localhost:8080/"
        },
        "id": "CGBP8XDWxgxO",
        "outputId": "299d941f-119c-44c4-bd6f-8c157a399d74"
      },
      "execution_count": null,
      "outputs": [
        {
          "output_type": "stream",
          "name": "stdout",
          "text": [
            "0b10011\n",
            "0x13\n",
            "0o23\n"
          ]
        }
      ]
    }
  ]
}